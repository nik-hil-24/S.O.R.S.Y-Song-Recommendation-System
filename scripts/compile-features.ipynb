{
 "cells": [
  {
   "cell_type": "code",
   "execution_count": 1,
   "id": "9f5241da",
   "metadata": {},
   "outputs": [],
   "source": [
    "# Imports\n",
    "import os\n",
    "import numpy as np\n",
    "import pandas as pd"
   ]
  },
  {
   "cell_type": "code",
   "execution_count": 2,
   "id": "50999884",
   "metadata": {},
   "outputs": [],
   "source": [
    "# Folder Path\n",
    "folder = '../feature-data'\n",
    "\n",
    "# Final DataFrame\n",
    "df_flag = True\n",
    "df = None"
   ]
  },
  {
   "cell_type": "code",
   "execution_count": 3,
   "id": "62307b1f",
   "metadata": {},
   "outputs": [],
   "source": [
    "for file in os.listdir(folder):\n",
    "    if file[-4:] == '.csv':\n",
    "        path = folder + '/' + file\n",
    "        data = pd.read_csv(path)\n",
    "        if df_flag:\n",
    "            df = data\n",
    "            df_flag = False\n",
    "        else:\n",
    "            df = pd.concat([df, data])"
   ]
  },
  {
   "cell_type": "code",
   "execution_count": 4,
   "id": "311fc17b",
   "metadata": {},
   "outputs": [],
   "source": [
    "df.rename(columns = {'uri': 'track_uri'}, inplace = True)"
   ]
  },
  {
   "cell_type": "code",
   "execution_count": 5,
   "id": "60a35f18",
   "metadata": {},
   "outputs": [
    {
     "data": {
      "text/html": [
       "<div>\n",
       "<style scoped>\n",
       "    .dataframe tbody tr th:only-of-type {\n",
       "        vertical-align: middle;\n",
       "    }\n",
       "\n",
       "    .dataframe tbody tr th {\n",
       "        vertical-align: top;\n",
       "    }\n",
       "\n",
       "    .dataframe thead th {\n",
       "        text-align: right;\n",
       "    }\n",
       "</style>\n",
       "<table border=\"1\" class=\"dataframe\">\n",
       "  <thead>\n",
       "    <tr style=\"text-align: right;\">\n",
       "      <th></th>\n",
       "      <th>pos</th>\n",
       "      <th>artist_name</th>\n",
       "      <th>track_uri</th>\n",
       "      <th>artist_uri</th>\n",
       "      <th>track_name</th>\n",
       "      <th>album_uri</th>\n",
       "      <th>duration_ms</th>\n",
       "      <th>album_name</th>\n",
       "    </tr>\n",
       "  </thead>\n",
       "  <tbody>\n",
       "    <tr>\n",
       "      <th>0</th>\n",
       "      <td>0</td>\n",
       "      <td>Bob Dylan</td>\n",
       "      <td>spotify:track:6QHYEZlm9wyfXfEM1vSu1P</td>\n",
       "      <td>spotify:artist:74ASZWbe4lXaubB36ztrGX</td>\n",
       "      <td>Boots of Spanish Leather</td>\n",
       "      <td>spotify:album:7DZeLXvr9eTVpyI1OlqtcS</td>\n",
       "      <td>277106</td>\n",
       "      <td>The Times They Are A-Changin'</td>\n",
       "    </tr>\n",
       "    <tr>\n",
       "      <th>1</th>\n",
       "      <td>1</td>\n",
       "      <td>Bob Dylan</td>\n",
       "      <td>spotify:track:3RkQ3UwOyPqpIiIvGVewuU</td>\n",
       "      <td>spotify:artist:74ASZWbe4lXaubB36ztrGX</td>\n",
       "      <td>Mr. Tambourine Man</td>\n",
       "      <td>spotify:album:1lPoRKSgZHQAYXxzBsOQ7v</td>\n",
       "      <td>330533</td>\n",
       "      <td>Bringing It All Back Home</td>\n",
       "    </tr>\n",
       "  </tbody>\n",
       "</table>\n",
       "</div>"
      ],
      "text/plain": [
       "   pos artist_name                             track_uri  \\\n",
       "0    0   Bob Dylan  spotify:track:6QHYEZlm9wyfXfEM1vSu1P   \n",
       "1    1   Bob Dylan  spotify:track:3RkQ3UwOyPqpIiIvGVewuU   \n",
       "\n",
       "                              artist_uri                track_name  \\\n",
       "0  spotify:artist:74ASZWbe4lXaubB36ztrGX  Boots of Spanish Leather   \n",
       "1  spotify:artist:74ASZWbe4lXaubB36ztrGX        Mr. Tambourine Man   \n",
       "\n",
       "                              album_uri  duration_ms  \\\n",
       "0  spotify:album:7DZeLXvr9eTVpyI1OlqtcS       277106   \n",
       "1  spotify:album:1lPoRKSgZHQAYXxzBsOQ7v       330533   \n",
       "\n",
       "                      album_name  \n",
       "0  The Times They Are A-Changin'  \n",
       "1      Bringing It All Back Home  "
      ]
     },
     "execution_count": 5,
     "metadata": {},
     "output_type": "execute_result"
    }
   ],
   "source": [
    "raw_data = pd.read_csv('../raw-data.csv')\n",
    "raw_data.head(2)"
   ]
  },
  {
   "cell_type": "code",
   "execution_count": 6,
   "id": "c61fa746",
   "metadata": {},
   "outputs": [],
   "source": [
    "final_df = pd.merge(df, raw_data, on = 'track_uri', how = 'inner')\n",
    "final_df.to_csv('../feature-data.csv', index = False)"
   ]
  }
 ],
 "metadata": {
  "kernelspec": {
   "display_name": "Python 3 (ipykernel)",
   "language": "python",
   "name": "python3"
  },
  "language_info": {
   "codemirror_mode": {
    "name": "ipython",
    "version": 3
   },
   "file_extension": ".py",
   "mimetype": "text/x-python",
   "name": "python",
   "nbconvert_exporter": "python",
   "pygments_lexer": "ipython3",
   "version": "3.9.7"
  }
 },
 "nbformat": 4,
 "nbformat_minor": 5
}
